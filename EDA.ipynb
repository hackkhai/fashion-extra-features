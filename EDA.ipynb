{
 "cells": [
  {
   "cell_type": "code",
   "execution_count": 1,
   "id": "7c4d66b4",
   "metadata": {},
   "outputs": [],
   "source": [
    "import json"
   ]
  },
  {
   "cell_type": "code",
   "execution_count": null,
   "id": "67a0cb0a",
   "metadata": {},
   "outputs": [],
   "source": []
  },
  {
   "cell_type": "code",
   "execution_count": 2,
   "id": "bf6c7e46",
   "metadata": {},
   "outputs": [],
   "source": [
    "import json\n",
    "with open(\"label_descriptions.json\") as f:\n",
    "    data=json.loads(f.read())"
   ]
  },
  {
   "cell_type": "code",
   "execution_count": 5,
   "id": "43b5ca5a",
   "metadata": {},
   "outputs": [
    {
     "data": {
      "text/html": [
       "<div>\n",
       "<style scoped>\n",
       "    .dataframe tbody tr th:only-of-type {\n",
       "        vertical-align: middle;\n",
       "    }\n",
       "\n",
       "    .dataframe tbody tr th {\n",
       "        vertical-align: top;\n",
       "    }\n",
       "\n",
       "    .dataframe thead th {\n",
       "        text-align: right;\n",
       "    }\n",
       "</style>\n",
       "<table border=\"1\" class=\"dataframe\">\n",
       "  <thead>\n",
       "    <tr style=\"text-align: right;\">\n",
       "      <th></th>\n",
       "      <th>ImageId</th>\n",
       "      <th>EncodedPixels</th>\n",
       "      <th>Height</th>\n",
       "      <th>Width</th>\n",
       "      <th>ClassId</th>\n",
       "    </tr>\n",
       "  </thead>\n",
       "  <tbody>\n",
       "    <tr>\n",
       "      <th>0</th>\n",
       "      <td>00000663ed1ff0c4e0132b9b9ac53f6e.jpg</td>\n",
       "      <td>6068157 7 6073371 20 6078584 34 6083797 48 608...</td>\n",
       "      <td>5214</td>\n",
       "      <td>3676</td>\n",
       "      <td>6</td>\n",
       "    </tr>\n",
       "    <tr>\n",
       "      <th>1</th>\n",
       "      <td>00000663ed1ff0c4e0132b9b9ac53f6e.jpg</td>\n",
       "      <td>6323163 11 6328356 32 6333549 53 6338742 75 63...</td>\n",
       "      <td>5214</td>\n",
       "      <td>3676</td>\n",
       "      <td>0</td>\n",
       "    </tr>\n",
       "    <tr>\n",
       "      <th>2</th>\n",
       "      <td>00000663ed1ff0c4e0132b9b9ac53f6e.jpg</td>\n",
       "      <td>8521389 10 8526585 30 8531789 42 8537002 46 85...</td>\n",
       "      <td>5214</td>\n",
       "      <td>3676</td>\n",
       "      <td>28</td>\n",
       "    </tr>\n",
       "    <tr>\n",
       "      <th>3</th>\n",
       "      <td>00000663ed1ff0c4e0132b9b9ac53f6e.jpg</td>\n",
       "      <td>12903854 2 12909064 7 12914275 10 12919485 15 ...</td>\n",
       "      <td>5214</td>\n",
       "      <td>3676</td>\n",
       "      <td>31</td>\n",
       "    </tr>\n",
       "    <tr>\n",
       "      <th>4</th>\n",
       "      <td>00000663ed1ff0c4e0132b9b9ac53f6e.jpg</td>\n",
       "      <td>10837337 5 10842542 14 10847746 24 10852951 33...</td>\n",
       "      <td>5214</td>\n",
       "      <td>3676</td>\n",
       "      <td>32</td>\n",
       "    </tr>\n",
       "  </tbody>\n",
       "</table>\n",
       "</div>"
      ],
      "text/plain": [
       "                                ImageId  \\\n",
       "0  00000663ed1ff0c4e0132b9b9ac53f6e.jpg   \n",
       "1  00000663ed1ff0c4e0132b9b9ac53f6e.jpg   \n",
       "2  00000663ed1ff0c4e0132b9b9ac53f6e.jpg   \n",
       "3  00000663ed1ff0c4e0132b9b9ac53f6e.jpg   \n",
       "4  00000663ed1ff0c4e0132b9b9ac53f6e.jpg   \n",
       "\n",
       "                                       EncodedPixels  Height  Width ClassId  \n",
       "0  6068157 7 6073371 20 6078584 34 6083797 48 608...    5214   3676       6  \n",
       "1  6323163 11 6328356 32 6333549 53 6338742 75 63...    5214   3676       0  \n",
       "2  8521389 10 8526585 30 8531789 42 8537002 46 85...    5214   3676      28  \n",
       "3  12903854 2 12909064 7 12914275 10 12919485 15 ...    5214   3676      31  \n",
       "4  10837337 5 10842542 14 10847746 24 10852951 33...    5214   3676      32  "
      ]
     },
     "execution_count": 5,
     "metadata": {},
     "output_type": "execute_result"
    }
   ],
   "source": [
    "import pandas as pd\n",
    "df = pd.read_csv(\"./train.csv\")\n",
    "df.head()"
   ]
  },
  {
   "cell_type": "code",
   "execution_count": 6,
   "id": "a36685bf",
   "metadata": {},
   "outputs": [
    {
     "data": {
      "text/plain": [
       "[{'id': 0, 'name': 'shirt, blouse', 'supercategory': 'upperbody', 'level': 2},\n",
       " {'id': 1,\n",
       "  'name': 'top, t-shirt, sweatshirt',\n",
       "  'supercategory': 'upperbody',\n",
       "  'level': 2},\n",
       " {'id': 2, 'name': 'sweater', 'supercategory': 'upperbody', 'level': 2},\n",
       " {'id': 3, 'name': 'cardigan', 'supercategory': 'upperbody', 'level': 2},\n",
       " {'id': 4, 'name': 'jacket', 'supercategory': 'upperbody', 'level': 2},\n",
       " {'id': 5, 'name': 'vest', 'supercategory': 'upperbody', 'level': 2},\n",
       " {'id': 6, 'name': 'pants', 'supercategory': 'lowerbody', 'level': 2},\n",
       " {'id': 7, 'name': 'shorts', 'supercategory': 'lowerbody', 'level': 2},\n",
       " {'id': 8, 'name': 'skirt', 'supercategory': 'lowerbody', 'level': 2},\n",
       " {'id': 9, 'name': 'coat', 'supercategory': 'wholebody', 'level': 2},\n",
       " {'id': 10, 'name': 'dress', 'supercategory': 'wholebody', 'level': 2},\n",
       " {'id': 11, 'name': 'jumpsuit', 'supercategory': 'wholebody', 'level': 2},\n",
       " {'id': 12, 'name': 'cape', 'supercategory': 'wholebody', 'level': 2},\n",
       " {'id': 13, 'name': 'glasses', 'supercategory': 'head', 'level': 2},\n",
       " {'id': 14, 'name': 'hat', 'supercategory': 'head', 'level': 2},\n",
       " {'id': 15,\n",
       "  'name': 'headband, head covering, hair accessory',\n",
       "  'supercategory': 'head',\n",
       "  'level': 2},\n",
       " {'id': 16, 'name': 'tie', 'supercategory': 'neck', 'level': 2},\n",
       " {'id': 17, 'name': 'glove', 'supercategory': 'arms and hands', 'level': 2},\n",
       " {'id': 18, 'name': 'watch', 'supercategory': 'arms and hands', 'level': 2},\n",
       " {'id': 19, 'name': 'belt', 'supercategory': 'waist', 'level': 2},\n",
       " {'id': 20,\n",
       "  'name': 'leg warmer',\n",
       "  'supercategory': 'legs and feet',\n",
       "  'level': 2},\n",
       " {'id': 21,\n",
       "  'name': 'tights, stockings',\n",
       "  'supercategory': 'legs and feet',\n",
       "  'level': 2},\n",
       " {'id': 22, 'name': 'sock', 'supercategory': 'legs and feet', 'level': 2},\n",
       " {'id': 23, 'name': 'shoe', 'supercategory': 'legs and feet', 'level': 2},\n",
       " {'id': 24, 'name': 'bag, wallet', 'supercategory': 'others', 'level': 2},\n",
       " {'id': 25, 'name': 'scarf', 'supercategory': 'others', 'level': 2},\n",
       " {'id': 26, 'name': 'umbrella', 'supercategory': 'others', 'level': 2},\n",
       " {'id': 27, 'name': 'hood', 'supercategory': 'garment parts', 'level': 2},\n",
       " {'id': 28, 'name': 'collar', 'supercategory': 'garment parts', 'level': 2},\n",
       " {'id': 29, 'name': 'lapel', 'supercategory': 'garment parts', 'level': 2},\n",
       " {'id': 30, 'name': 'epaulette', 'supercategory': 'garment parts', 'level': 2},\n",
       " {'id': 31, 'name': 'sleeve', 'supercategory': 'garment parts', 'level': 2},\n",
       " {'id': 32, 'name': 'pocket', 'supercategory': 'garment parts', 'level': 2},\n",
       " {'id': 33, 'name': 'neckline', 'supercategory': 'garment parts', 'level': 2},\n",
       " {'id': 34, 'name': 'buckle', 'supercategory': 'closures', 'level': 2},\n",
       " {'id': 35, 'name': 'zipper', 'supercategory': 'closures', 'level': 2},\n",
       " {'id': 36, 'name': 'applique', 'supercategory': 'decorations', 'level': 2},\n",
       " {'id': 37, 'name': 'bead', 'supercategory': 'decorations', 'level': 2},\n",
       " {'id': 38, 'name': 'bow', 'supercategory': 'decorations', 'level': 2},\n",
       " {'id': 39, 'name': 'flower', 'supercategory': 'decorations', 'level': 2},\n",
       " {'id': 40, 'name': 'fringe', 'supercategory': 'decorations', 'level': 2},\n",
       " {'id': 41, 'name': 'ribbon', 'supercategory': 'decorations', 'level': 2},\n",
       " {'id': 42, 'name': 'rivet', 'supercategory': 'decorations', 'level': 2},\n",
       " {'id': 43, 'name': 'ruffle', 'supercategory': 'decorations', 'level': 2},\n",
       " {'id': 44, 'name': 'sequin', 'supercategory': 'decorations', 'level': 2},\n",
       " {'id': 45, 'name': 'tassel', 'supercategory': 'decorations', 'level': 2}]"
      ]
     },
     "execution_count": 6,
     "metadata": {},
     "output_type": "execute_result"
    }
   ],
   "source": [
    "data[\"categories\"]"
   ]
  },
  {
   "cell_type": "code",
   "execution_count": null,
   "id": "9ce259ee",
   "metadata": {},
   "outputs": [],
   "source": []
  }
 ],
 "metadata": {
  "kernelspec": {
   "display_name": "Python 3",
   "language": "python",
   "name": "python3"
  },
  "language_info": {
   "codemirror_mode": {
    "name": "ipython",
    "version": 3
   },
   "file_extension": ".py",
   "mimetype": "text/x-python",
   "name": "python",
   "nbconvert_exporter": "python",
   "pygments_lexer": "ipython3",
   "version": "3.7.10"
  }
 },
 "nbformat": 4,
 "nbformat_minor": 5
}
